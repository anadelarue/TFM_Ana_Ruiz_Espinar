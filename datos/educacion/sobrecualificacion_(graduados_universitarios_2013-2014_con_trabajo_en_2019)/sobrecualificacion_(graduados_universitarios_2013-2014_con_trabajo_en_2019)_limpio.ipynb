{
 "cells": [
  {
   "cell_type": "code",
   "execution_count": 1,
   "id": "e2723ddd",
   "metadata": {},
   "outputs": [],
   "source": [
    "import pandas as pd\n",
    "import numpy as np"
   ]
  },
  {
   "cell_type": "code",
   "execution_count": 2,
   "id": "4c53439e",
   "metadata": {},
   "outputs": [],
   "source": [
    "df_sucio = pd.read_csv('sobrecualificacion_(graduados_universitarios_2013-2014_con_trabajo_en_2019).csv', encoding = 'latin1', sep=';')"
   ]
  },
  {
   "cell_type": "code",
   "execution_count": 3,
   "id": "6c951b84",
   "metadata": {},
   "outputs": [],
   "source": [
    "df_sucio['Total'] = df_sucio['Total'].map(lambda x: x.replace(',', '.'))"
   ]
  },
  {
   "cell_type": "code",
   "execution_count": 4,
   "id": "3f50320a",
   "metadata": {},
   "outputs": [],
   "source": [
    "df_sucio['Total'] = df_sucio['Total'].astype(float)"
   ]
  },
  {
   "cell_type": "code",
   "execution_count": 5,
   "id": "dc0be255",
   "metadata": {},
   "outputs": [],
   "source": [
    "df_sucio = df_sucio.groupby(by = ['Sexo', 'Nivel de formación más apropiado para realizar su trabajo'], as_index = False).mean()"
   ]
  },
  {
   "cell_type": "code",
   "execution_count": 6,
   "id": "be4a505c",
   "metadata": {},
   "outputs": [
    {
     "data": {
      "text/html": [
       "<div>\n",
       "<style scoped>\n",
       "    .dataframe tbody tr th:only-of-type {\n",
       "        vertical-align: middle;\n",
       "    }\n",
       "\n",
       "    .dataframe tbody tr th {\n",
       "        vertical-align: top;\n",
       "    }\n",
       "\n",
       "    .dataframe thead th {\n",
       "        text-align: right;\n",
       "    }\n",
       "</style>\n",
       "<table border=\"1\" class=\"dataframe\">\n",
       "  <thead>\n",
       "    <tr style=\"text-align: right;\">\n",
       "      <th></th>\n",
       "      <th>Sexo</th>\n",
       "      <th>Nivel de formación más apropiado para realizar su trabajo</th>\n",
       "      <th>Total</th>\n",
       "    </tr>\n",
       "  </thead>\n",
       "  <tbody>\n",
       "    <tr>\n",
       "      <th>0</th>\n",
       "      <td>Hombres</td>\n",
       "      <td>Doctorado</td>\n",
       "      <td>2.45</td>\n",
       "    </tr>\n",
       "    <tr>\n",
       "      <th>1</th>\n",
       "      <td>Hombres</td>\n",
       "      <td>ESO, EGB, etc ...</td>\n",
       "      <td>3.35</td>\n",
       "    </tr>\n",
       "    <tr>\n",
       "      <th>2</th>\n",
       "      <td>Hombres</td>\n",
       "      <td>Formación profesional básica</td>\n",
       "      <td>1.80</td>\n",
       "    </tr>\n",
       "    <tr>\n",
       "      <th>3</th>\n",
       "      <td>Hombres</td>\n",
       "      <td>Formación profesional de grado medio / bachill...</td>\n",
       "      <td>4.50</td>\n",
       "    </tr>\n",
       "    <tr>\n",
       "      <th>4</th>\n",
       "      <td>Hombres</td>\n",
       "      <td>Formación profesional de grado superior</td>\n",
       "      <td>9.20</td>\n",
       "    </tr>\n",
       "    <tr>\n",
       "      <th>5</th>\n",
       "      <td>Hombres</td>\n",
       "      <td>Máster</td>\n",
       "      <td>22.90</td>\n",
       "    </tr>\n",
       "    <tr>\n",
       "      <th>6</th>\n",
       "      <td>Hombres</td>\n",
       "      <td>Título universitario (excepto doctorado o máster)</td>\n",
       "      <td>55.80</td>\n",
       "    </tr>\n",
       "    <tr>\n",
       "      <th>7</th>\n",
       "      <td>Mujeres</td>\n",
       "      <td>Doctorado</td>\n",
       "      <td>1.70</td>\n",
       "    </tr>\n",
       "    <tr>\n",
       "      <th>8</th>\n",
       "      <td>Mujeres</td>\n",
       "      <td>ESO, EGB, etc ...</td>\n",
       "      <td>4.05</td>\n",
       "    </tr>\n",
       "    <tr>\n",
       "      <th>9</th>\n",
       "      <td>Mujeres</td>\n",
       "      <td>Formación profesional básica</td>\n",
       "      <td>2.35</td>\n",
       "    </tr>\n",
       "    <tr>\n",
       "      <th>10</th>\n",
       "      <td>Mujeres</td>\n",
       "      <td>Formación profesional de grado medio / bachill...</td>\n",
       "      <td>5.05</td>\n",
       "    </tr>\n",
       "    <tr>\n",
       "      <th>11</th>\n",
       "      <td>Mujeres</td>\n",
       "      <td>Formación profesional de grado superior</td>\n",
       "      <td>10.25</td>\n",
       "    </tr>\n",
       "    <tr>\n",
       "      <th>12</th>\n",
       "      <td>Mujeres</td>\n",
       "      <td>Máster</td>\n",
       "      <td>18.20</td>\n",
       "    </tr>\n",
       "    <tr>\n",
       "      <th>13</th>\n",
       "      <td>Mujeres</td>\n",
       "      <td>Título universitario (excepto doctorado o máster)</td>\n",
       "      <td>58.40</td>\n",
       "    </tr>\n",
       "  </tbody>\n",
       "</table>\n",
       "</div>"
      ],
      "text/plain": [
       "       Sexo Nivel de formación más apropiado para realizar su trabajo  Total\n",
       "0   Hombres                                          Doctorado          2.45\n",
       "1   Hombres                                  ESO, EGB, etc ...          3.35\n",
       "2   Hombres                       Formación profesional básica          1.80\n",
       "3   Hombres  Formación profesional de grado medio / bachill...          4.50\n",
       "4   Hombres            Formación profesional de grado superior          9.20\n",
       "5   Hombres                                             Máster         22.90\n",
       "6   Hombres  Título universitario (excepto doctorado o máster)         55.80\n",
       "7   Mujeres                                          Doctorado          1.70\n",
       "8   Mujeres                                  ESO, EGB, etc ...          4.05\n",
       "9   Mujeres                       Formación profesional básica          2.35\n",
       "10  Mujeres  Formación profesional de grado medio / bachill...          5.05\n",
       "11  Mujeres            Formación profesional de grado superior         10.25\n",
       "12  Mujeres                                             Máster         18.20\n",
       "13  Mujeres  Título universitario (excepto doctorado o máster)         58.40"
      ]
     },
     "execution_count": 6,
     "metadata": {},
     "output_type": "execute_result"
    }
   ],
   "source": [
    "df_sucio"
   ]
  },
  {
   "cell_type": "code",
   "execution_count": 7,
   "id": "3ebfbe35",
   "metadata": {},
   "outputs": [],
   "source": [
    "mas_nivel = ['ESO, EGB, etc ...', 'Formación profesional básica', 'Formación profesional de grado medio / bachillerato', 'Formación profesional de grado superior']"
   ]
  },
  {
   "cell_type": "code",
   "execution_count": 8,
   "id": "e909b833",
   "metadata": {},
   "outputs": [],
   "source": [
    "menos_nivel = ['Máster', 'Doctorado']"
   ]
  },
  {
   "cell_type": "code",
   "execution_count": 9,
   "id": "7313139b",
   "metadata": {},
   "outputs": [],
   "source": [
    "igual_nivel = ['Título universitario (excepto doctorado o máster)']"
   ]
  },
  {
   "cell_type": "code",
   "execution_count": 10,
   "id": "f923d52a",
   "metadata": {},
   "outputs": [],
   "source": [
    "df_mas_nivel = df_sucio[df_sucio['Nivel de formación más apropiado para realizar su trabajo'].isin(mas_nivel)]"
   ]
  },
  {
   "cell_type": "code",
   "execution_count": 11,
   "id": "e8173101",
   "metadata": {},
   "outputs": [
    {
     "data": {
      "text/html": [
       "<div>\n",
       "<style scoped>\n",
       "    .dataframe tbody tr th:only-of-type {\n",
       "        vertical-align: middle;\n",
       "    }\n",
       "\n",
       "    .dataframe tbody tr th {\n",
       "        vertical-align: top;\n",
       "    }\n",
       "\n",
       "    .dataframe thead th {\n",
       "        text-align: right;\n",
       "    }\n",
       "</style>\n",
       "<table border=\"1\" class=\"dataframe\">\n",
       "  <thead>\n",
       "    <tr style=\"text-align: right;\">\n",
       "      <th></th>\n",
       "      <th>Sexo</th>\n",
       "      <th>Total</th>\n",
       "    </tr>\n",
       "  </thead>\n",
       "  <tbody>\n",
       "    <tr>\n",
       "      <th>0</th>\n",
       "      <td>Hombres</td>\n",
       "      <td>4.7125</td>\n",
       "    </tr>\n",
       "    <tr>\n",
       "      <th>1</th>\n",
       "      <td>Mujeres</td>\n",
       "      <td>5.4250</td>\n",
       "    </tr>\n",
       "  </tbody>\n",
       "</table>\n",
       "</div>"
      ],
      "text/plain": [
       "      Sexo   Total\n",
       "0  Hombres  4.7125\n",
       "1  Mujeres  5.4250"
      ]
     },
     "execution_count": 11,
     "metadata": {},
     "output_type": "execute_result"
    }
   ],
   "source": [
    "df_mas_nivel = df_mas_nivel.groupby(by = ['Sexo'], as_index = False).mean()\n",
    "df_mas_nivel"
   ]
  },
  {
   "cell_type": "code",
   "execution_count": 12,
   "id": "db25d83c",
   "metadata": {},
   "outputs": [],
   "source": [
    "df_menos_nivel = df_sucio[df_sucio['Nivel de formación más apropiado para realizar su trabajo'].isin(menos_nivel)]"
   ]
  },
  {
   "cell_type": "code",
   "execution_count": 13,
   "id": "4f47a35e",
   "metadata": {},
   "outputs": [
    {
     "data": {
      "text/html": [
       "<div>\n",
       "<style scoped>\n",
       "    .dataframe tbody tr th:only-of-type {\n",
       "        vertical-align: middle;\n",
       "    }\n",
       "\n",
       "    .dataframe tbody tr th {\n",
       "        vertical-align: top;\n",
       "    }\n",
       "\n",
       "    .dataframe thead th {\n",
       "        text-align: right;\n",
       "    }\n",
       "</style>\n",
       "<table border=\"1\" class=\"dataframe\">\n",
       "  <thead>\n",
       "    <tr style=\"text-align: right;\">\n",
       "      <th></th>\n",
       "      <th>Sexo</th>\n",
       "      <th>Total</th>\n",
       "    </tr>\n",
       "  </thead>\n",
       "  <tbody>\n",
       "    <tr>\n",
       "      <th>0</th>\n",
       "      <td>Hombres</td>\n",
       "      <td>12.675</td>\n",
       "    </tr>\n",
       "    <tr>\n",
       "      <th>1</th>\n",
       "      <td>Mujeres</td>\n",
       "      <td>9.950</td>\n",
       "    </tr>\n",
       "  </tbody>\n",
       "</table>\n",
       "</div>"
      ],
      "text/plain": [
       "      Sexo   Total\n",
       "0  Hombres  12.675\n",
       "1  Mujeres   9.950"
      ]
     },
     "execution_count": 13,
     "metadata": {},
     "output_type": "execute_result"
    }
   ],
   "source": [
    "df_menos_nivel = df_menos_nivel.groupby(by = ['Sexo'], as_index = False).mean()\n",
    "df_menos_nivel"
   ]
  },
  {
   "cell_type": "code",
   "execution_count": 14,
   "id": "31210639",
   "metadata": {},
   "outputs": [],
   "source": [
    "df_igual_nivel = df_sucio[df_sucio['Nivel de formación más apropiado para realizar su trabajo'].isin(igual_nivel)]"
   ]
  },
  {
   "cell_type": "code",
   "execution_count": 15,
   "id": "77fd3661",
   "metadata": {},
   "outputs": [
    {
     "data": {
      "text/html": [
       "<div>\n",
       "<style scoped>\n",
       "    .dataframe tbody tr th:only-of-type {\n",
       "        vertical-align: middle;\n",
       "    }\n",
       "\n",
       "    .dataframe tbody tr th {\n",
       "        vertical-align: top;\n",
       "    }\n",
       "\n",
       "    .dataframe thead th {\n",
       "        text-align: right;\n",
       "    }\n",
       "</style>\n",
       "<table border=\"1\" class=\"dataframe\">\n",
       "  <thead>\n",
       "    <tr style=\"text-align: right;\">\n",
       "      <th></th>\n",
       "      <th>Sexo</th>\n",
       "      <th>Total</th>\n",
       "    </tr>\n",
       "  </thead>\n",
       "  <tbody>\n",
       "    <tr>\n",
       "      <th>0</th>\n",
       "      <td>Hombres</td>\n",
       "      <td>55.8</td>\n",
       "    </tr>\n",
       "    <tr>\n",
       "      <th>1</th>\n",
       "      <td>Mujeres</td>\n",
       "      <td>58.4</td>\n",
       "    </tr>\n",
       "  </tbody>\n",
       "</table>\n",
       "</div>"
      ],
      "text/plain": [
       "      Sexo  Total\n",
       "0  Hombres   55.8\n",
       "1  Mujeres   58.4"
      ]
     },
     "execution_count": 15,
     "metadata": {},
     "output_type": "execute_result"
    }
   ],
   "source": [
    "df_igual_nivel = df_igual_nivel.groupby(by = ['Sexo'], as_index = False).mean()\n",
    "df_igual_nivel"
   ]
  },
  {
   "cell_type": "code",
   "execution_count": 16,
   "id": "e18c9c67",
   "metadata": {},
   "outputs": [],
   "source": [
    "d = ['Nivel más bajo', 'Nivel más bajo', 'Nivel más alto', 'Nivel más alto', 'Nivel apropiado', 'Nivel apropiado']"
   ]
  },
  {
   "cell_type": "code",
   "execution_count": 17,
   "id": "e5fe1176",
   "metadata": {},
   "outputs": [],
   "source": [
    "frames = [df_menos_nivel, df_mas_nivel, df_igual_nivel]"
   ]
  },
  {
   "cell_type": "code",
   "execution_count": 18,
   "id": "9909e0bc",
   "metadata": {},
   "outputs": [
    {
     "data": {
      "text/html": [
       "<div>\n",
       "<style scoped>\n",
       "    .dataframe tbody tr th:only-of-type {\n",
       "        vertical-align: middle;\n",
       "    }\n",
       "\n",
       "    .dataframe tbody tr th {\n",
       "        vertical-align: top;\n",
       "    }\n",
       "\n",
       "    .dataframe thead th {\n",
       "        text-align: right;\n",
       "    }\n",
       "</style>\n",
       "<table border=\"1\" class=\"dataframe\">\n",
       "  <thead>\n",
       "    <tr style=\"text-align: right;\">\n",
       "      <th></th>\n",
       "      <th>Sexo</th>\n",
       "      <th>Total</th>\n",
       "    </tr>\n",
       "  </thead>\n",
       "  <tbody>\n",
       "    <tr>\n",
       "      <th>0</th>\n",
       "      <td>Hombres</td>\n",
       "      <td>12.6750</td>\n",
       "    </tr>\n",
       "    <tr>\n",
       "      <th>1</th>\n",
       "      <td>Mujeres</td>\n",
       "      <td>9.9500</td>\n",
       "    </tr>\n",
       "    <tr>\n",
       "      <th>0</th>\n",
       "      <td>Hombres</td>\n",
       "      <td>4.7125</td>\n",
       "    </tr>\n",
       "    <tr>\n",
       "      <th>1</th>\n",
       "      <td>Mujeres</td>\n",
       "      <td>5.4250</td>\n",
       "    </tr>\n",
       "    <tr>\n",
       "      <th>0</th>\n",
       "      <td>Hombres</td>\n",
       "      <td>55.8000</td>\n",
       "    </tr>\n",
       "    <tr>\n",
       "      <th>1</th>\n",
       "      <td>Mujeres</td>\n",
       "      <td>58.4000</td>\n",
       "    </tr>\n",
       "  </tbody>\n",
       "</table>\n",
       "</div>"
      ],
      "text/plain": [
       "      Sexo    Total\n",
       "0  Hombres  12.6750\n",
       "1  Mujeres   9.9500\n",
       "0  Hombres   4.7125\n",
       "1  Mujeres   5.4250\n",
       "0  Hombres  55.8000\n",
       "1  Mujeres  58.4000"
      ]
     },
     "execution_count": 18,
     "metadata": {},
     "output_type": "execute_result"
    }
   ],
   "source": [
    "result = pd.concat(frames)\n",
    "result"
   ]
  },
  {
   "cell_type": "code",
   "execution_count": 19,
   "id": "3d4bfd3a",
   "metadata": {},
   "outputs": [],
   "source": [
    "result['Nivel de formación más apropiado para realizar su trabajo'] = d"
   ]
  },
  {
   "cell_type": "code",
   "execution_count": 20,
   "id": "c376eb9f",
   "metadata": {},
   "outputs": [
    {
     "data": {
      "text/html": [
       "<div>\n",
       "<style scoped>\n",
       "    .dataframe tbody tr th:only-of-type {\n",
       "        vertical-align: middle;\n",
       "    }\n",
       "\n",
       "    .dataframe tbody tr th {\n",
       "        vertical-align: top;\n",
       "    }\n",
       "\n",
       "    .dataframe thead th {\n",
       "        text-align: right;\n",
       "    }\n",
       "</style>\n",
       "<table border=\"1\" class=\"dataframe\">\n",
       "  <thead>\n",
       "    <tr style=\"text-align: right;\">\n",
       "      <th></th>\n",
       "      <th>Sexo</th>\n",
       "      <th>Total</th>\n",
       "      <th>Nivel de formación más apropiado para realizar su trabajo</th>\n",
       "    </tr>\n",
       "  </thead>\n",
       "  <tbody>\n",
       "    <tr>\n",
       "      <th>0</th>\n",
       "      <td>Hombres</td>\n",
       "      <td>12.6750</td>\n",
       "      <td>Nivel más bajo</td>\n",
       "    </tr>\n",
       "    <tr>\n",
       "      <th>1</th>\n",
       "      <td>Mujeres</td>\n",
       "      <td>9.9500</td>\n",
       "      <td>Nivel más bajo</td>\n",
       "    </tr>\n",
       "    <tr>\n",
       "      <th>0</th>\n",
       "      <td>Hombres</td>\n",
       "      <td>4.7125</td>\n",
       "      <td>Nivel más alto</td>\n",
       "    </tr>\n",
       "    <tr>\n",
       "      <th>1</th>\n",
       "      <td>Mujeres</td>\n",
       "      <td>5.4250</td>\n",
       "      <td>Nivel más alto</td>\n",
       "    </tr>\n",
       "    <tr>\n",
       "      <th>0</th>\n",
       "      <td>Hombres</td>\n",
       "      <td>55.8000</td>\n",
       "      <td>Nivel apropiado</td>\n",
       "    </tr>\n",
       "    <tr>\n",
       "      <th>1</th>\n",
       "      <td>Mujeres</td>\n",
       "      <td>58.4000</td>\n",
       "      <td>Nivel apropiado</td>\n",
       "    </tr>\n",
       "  </tbody>\n",
       "</table>\n",
       "</div>"
      ],
      "text/plain": [
       "      Sexo    Total Nivel de formación más apropiado para realizar su trabajo\n",
       "0  Hombres  12.6750                                     Nivel más bajo       \n",
       "1  Mujeres   9.9500                                     Nivel más bajo       \n",
       "0  Hombres   4.7125                                     Nivel más alto       \n",
       "1  Mujeres   5.4250                                     Nivel más alto       \n",
       "0  Hombres  55.8000                                    Nivel apropiado       \n",
       "1  Mujeres  58.4000                                    Nivel apropiado       "
      ]
     },
     "execution_count": 20,
     "metadata": {},
     "output_type": "execute_result"
    }
   ],
   "source": [
    "result"
   ]
  },
  {
   "cell_type": "code",
   "execution_count": null,
   "id": "de298b94",
   "metadata": {},
   "outputs": [],
   "source": []
  }
 ],
 "metadata": {
  "kernelspec": {
   "display_name": "Python 3 (ipykernel)",
   "language": "python",
   "name": "python3"
  },
  "language_info": {
   "codemirror_mode": {
    "name": "ipython",
    "version": 3
   },
   "file_extension": ".py",
   "mimetype": "text/x-python",
   "name": "python",
   "nbconvert_exporter": "python",
   "pygments_lexer": "ipython3",
   "version": "3.9.7"
  }
 },
 "nbformat": 4,
 "nbformat_minor": 5
}
