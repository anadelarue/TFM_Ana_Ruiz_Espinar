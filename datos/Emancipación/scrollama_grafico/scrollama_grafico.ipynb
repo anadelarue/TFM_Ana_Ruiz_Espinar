{
 "cells": [
  {
   "cell_type": "code",
   "execution_count": 1,
   "id": "9e549e64",
   "metadata": {},
   "outputs": [],
   "source": [
    "import pandas as pd\n",
    "import numpy as np"
   ]
  },
  {
   "cell_type": "code",
   "execution_count": 2,
   "id": "2030d876",
   "metadata": {},
   "outputs": [],
   "source": [
    "df1 = pd.read_csv('salarios_medios_por_tipo_de_jornada,_grupo_de_edad_y_decil_limpio.csv')"
   ]
  },
  {
   "cell_type": "code",
   "execution_count": 3,
   "id": "98cd4551",
   "metadata": {},
   "outputs": [],
   "source": [
    "df2 = pd.read_csv('indice_precios_vivienda_alquiler_limpio.csv')"
   ]
  },
  {
   "cell_type": "code",
   "execution_count": 4,
   "id": "66ec7511",
   "metadata": {},
   "outputs": [],
   "source": [
    "df3 = pd.read_csv('informe_de_precios_en_alquiler_españa_limpio.csv')"
   ]
  },
  {
   "cell_type": "code",
   "execution_count": 5,
   "id": "03ded119",
   "metadata": {},
   "outputs": [
    {
     "data": {
      "text/html": [
       "<div>\n",
       "<style scoped>\n",
       "    .dataframe tbody tr th:only-of-type {\n",
       "        vertical-align: middle;\n",
       "    }\n",
       "\n",
       "    .dataframe tbody tr th {\n",
       "        vertical-align: top;\n",
       "    }\n",
       "\n",
       "    .dataframe thead th {\n",
       "        text-align: right;\n",
       "    }\n",
       "</style>\n",
       "<table border=\"1\" class=\"dataframe\">\n",
       "  <thead>\n",
       "    <tr style=\"text-align: right;\">\n",
       "      <th></th>\n",
       "      <th>Tipo de jornada</th>\n",
       "      <th>Periodo</th>\n",
       "      <th>Total</th>\n",
       "      <th>Porcentajes</th>\n",
       "    </tr>\n",
       "  </thead>\n",
       "  <tbody>\n",
       "    <tr>\n",
       "      <th>0</th>\n",
       "      <td>Jornada a tiempo completo</td>\n",
       "      <td>2008</td>\n",
       "      <td>1540.700</td>\n",
       "      <td>0.000000</td>\n",
       "    </tr>\n",
       "    <tr>\n",
       "      <th>1</th>\n",
       "      <td>Jornada a tiempo completo</td>\n",
       "      <td>2020</td>\n",
       "      <td>1720.875</td>\n",
       "      <td>11.694360</td>\n",
       "    </tr>\n",
       "    <tr>\n",
       "      <th>2</th>\n",
       "      <td>Jornada a tiempo parcial</td>\n",
       "      <td>2008</td>\n",
       "      <td>665.395</td>\n",
       "      <td>6.178662</td>\n",
       "    </tr>\n",
       "    <tr>\n",
       "      <th>3</th>\n",
       "      <td>Jornada a tiempo parcial</td>\n",
       "      <td>2020</td>\n",
       "      <td>709.215</td>\n",
       "      <td>0.000000</td>\n",
       "    </tr>\n",
       "  </tbody>\n",
       "</table>\n",
       "</div>"
      ],
      "text/plain": [
       "             Tipo de jornada  Periodo     Total  Porcentajes\n",
       "0  Jornada a tiempo completo     2008  1540.700     0.000000\n",
       "1  Jornada a tiempo completo     2020  1720.875    11.694360\n",
       "2   Jornada a tiempo parcial     2008   665.395     6.178662\n",
       "3   Jornada a tiempo parcial     2020   709.215     0.000000"
      ]
     },
     "execution_count": 5,
     "metadata": {},
     "output_type": "execute_result"
    }
   ],
   "source": [
    "df1"
   ]
  },
  {
   "cell_type": "code",
   "execution_count": 10,
   "id": "7cf3b4a4",
   "metadata": {},
   "outputs": [
    {
     "data": {
      "text/html": [
       "<div>\n",
       "<style scoped>\n",
       "    .dataframe tbody tr th:only-of-type {\n",
       "        vertical-align: middle;\n",
       "    }\n",
       "\n",
       "    .dataframe tbody tr th {\n",
       "        vertical-align: top;\n",
       "    }\n",
       "\n",
       "    .dataframe thead th {\n",
       "        text-align: right;\n",
       "    }\n",
       "</style>\n",
       "<table border=\"1\" class=\"dataframe\">\n",
       "  <thead>\n",
       "    <tr style=\"text-align: right;\">\n",
       "      <th></th>\n",
       "      <th>Municipios</th>\n",
       "      <th>Precio/m2</th>\n",
       "      <th>Superficie</th>\n",
       "    </tr>\n",
       "  </thead>\n",
       "  <tbody>\n",
       "    <tr>\n",
       "      <th>0</th>\n",
       "      <td>Barcelona</td>\n",
       "      <td>11</td>\n",
       "      <td>68.0</td>\n",
       "    </tr>\n",
       "    <tr>\n",
       "      <th>1</th>\n",
       "      <td>Madrid</td>\n",
       "      <td>11</td>\n",
       "      <td>66.0</td>\n",
       "    </tr>\n",
       "    <tr>\n",
       "      <th>2</th>\n",
       "      <td>Málaga</td>\n",
       "      <td>7</td>\n",
       "      <td>79.0</td>\n",
       "    </tr>\n",
       "    <tr>\n",
       "      <th>3</th>\n",
       "      <td>Sevilla</td>\n",
       "      <td>7</td>\n",
       "      <td>77.0</td>\n",
       "    </tr>\n",
       "    <tr>\n",
       "      <th>4</th>\n",
       "      <td>Valencia</td>\n",
       "      <td>5</td>\n",
       "      <td>85.0</td>\n",
       "    </tr>\n",
       "    <tr>\n",
       "      <th>5</th>\n",
       "      <td>Zaragoza</td>\n",
       "      <td>6</td>\n",
       "      <td>73.0</td>\n",
       "    </tr>\n",
       "  </tbody>\n",
       "</table>\n",
       "</div>"
      ],
      "text/plain": [
       "  Municipios  Precio/m2  Superficie\n",
       "0  Barcelona         11        68.0\n",
       "1     Madrid         11        66.0\n",
       "2     Málaga          7        79.0\n",
       "3    Sevilla          7        77.0\n",
       "4   Valencia          5        85.0\n",
       "5   Zaragoza          6        73.0"
      ]
     },
     "execution_count": 10,
     "metadata": {},
     "output_type": "execute_result"
    }
   ],
   "source": [
    "df2"
   ]
  },
  {
   "cell_type": "code",
   "execution_count": 11,
   "id": "309f8c39",
   "metadata": {},
   "outputs": [
    {
     "data": {
      "text/html": [
       "<div>\n",
       "<style scoped>\n",
       "    .dataframe tbody tr th:only-of-type {\n",
       "        vertical-align: middle;\n",
       "    }\n",
       "\n",
       "    .dataframe tbody tr th {\n",
       "        vertical-align: top;\n",
       "    }\n",
       "\n",
       "    .dataframe thead th {\n",
       "        text-align: right;\n",
       "    }\n",
       "</style>\n",
       "<table border=\"1\" class=\"dataframe\">\n",
       "  <thead>\n",
       "    <tr style=\"text-align: right;\">\n",
       "      <th></th>\n",
       "      <th>Localización</th>\n",
       "      <th>Precio m2 abr 2022</th>\n",
       "    </tr>\n",
       "  </thead>\n",
       "  <tbody>\n",
       "    <tr>\n",
       "      <th>0</th>\n",
       "      <td>Barcelona</td>\n",
       "      <td>16</td>\n",
       "    </tr>\n",
       "    <tr>\n",
       "      <th>1</th>\n",
       "      <td>Madrid</td>\n",
       "      <td>15</td>\n",
       "    </tr>\n",
       "    <tr>\n",
       "      <th>2</th>\n",
       "      <td>Málaga</td>\n",
       "      <td>10</td>\n",
       "    </tr>\n",
       "    <tr>\n",
       "      <th>3</th>\n",
       "      <td>Sevilla</td>\n",
       "      <td>10</td>\n",
       "    </tr>\n",
       "    <tr>\n",
       "      <th>4</th>\n",
       "      <td>Valencia/Valéncia</td>\n",
       "      <td>8</td>\n",
       "    </tr>\n",
       "    <tr>\n",
       "      <th>5</th>\n",
       "      <td>Zaragoza</td>\n",
       "      <td>8</td>\n",
       "    </tr>\n",
       "  </tbody>\n",
       "</table>\n",
       "</div>"
      ],
      "text/plain": [
       "        Localización  Precio m2 abr 2022\n",
       "0          Barcelona                  16\n",
       "1             Madrid                  15\n",
       "2             Málaga                  10\n",
       "3            Sevilla                  10\n",
       "4  Valencia/Valéncia                   8\n",
       "5           Zaragoza                   8"
      ]
     },
     "execution_count": 11,
     "metadata": {},
     "output_type": "execute_result"
    }
   ],
   "source": [
    "df3"
   ]
  },
  {
   "cell_type": "code",
   "execution_count": 16,
   "id": "f6a90544",
   "metadata": {},
   "outputs": [],
   "source": [
    "df = pd.concat([df2, df3], axis = 1)\n",
    "df['Salario medio jornada completa'] = [1720, 1720, 1720, 1720, 1720, 1720]"
   ]
  },
  {
   "cell_type": "code",
   "execution_count": 22,
   "id": "d1a8399a",
   "metadata": {},
   "outputs": [],
   "source": [
    "df['Precio/m2'] = df['Precio/m2'] * 85"
   ]
  },
  {
   "cell_type": "code",
   "execution_count": 23,
   "id": "90773bef",
   "metadata": {},
   "outputs": [],
   "source": [
    "df['Precio m2 abr 2022'] = df['Precio m2 abr 2022'] * 85"
   ]
  },
  {
   "cell_type": "code",
   "execution_count": 25,
   "id": "c827d29e",
   "metadata": {},
   "outputs": [],
   "source": [
    "df.to_csv('scrollama_grafico.csv', index = False)"
   ]
  }
 ],
 "metadata": {
  "kernelspec": {
   "display_name": "Python 3 (ipykernel)",
   "language": "python",
   "name": "python3"
  },
  "language_info": {
   "codemirror_mode": {
    "name": "ipython",
    "version": 3
   },
   "file_extension": ".py",
   "mimetype": "text/x-python",
   "name": "python",
   "nbconvert_exporter": "python",
   "pygments_lexer": "ipython3",
   "version": "3.9.7"
  }
 },
 "nbformat": 4,
 "nbformat_minor": 5
}
