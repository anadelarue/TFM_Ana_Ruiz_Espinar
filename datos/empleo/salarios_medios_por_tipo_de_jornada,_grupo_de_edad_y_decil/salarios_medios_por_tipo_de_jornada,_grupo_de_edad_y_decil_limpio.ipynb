{
 "cells": [
  {
   "cell_type": "code",
   "execution_count": 1,
   "id": "7a3c3574",
   "metadata": {},
   "outputs": [],
   "source": [
    "import pandas as pd\n",
    "import numpy as np"
   ]
  },
  {
   "cell_type": "code",
   "execution_count": 2,
   "id": "2d585271",
   "metadata": {},
   "outputs": [],
   "source": [
    "df_sucio = pd.read_csv('salarios_medios_por_tipo_de_jornada,_grupo_de_edad_y_decil.csv', encoding = 'latin1', sep = ';')"
   ]
  },
  {
   "cell_type": "code",
   "execution_count": 3,
   "id": "5a94c82a",
   "metadata": {},
   "outputs": [],
   "source": [
    "df_sucio['Total'] = df_sucio['Total'].map(lambda x : x.replace('.', ''))"
   ]
  },
  {
   "cell_type": "code",
   "execution_count": 4,
   "id": "651ef7a8",
   "metadata": {},
   "outputs": [],
   "source": [
    "df_sucio['Total'] = df_sucio['Total'].map(lambda x : x.replace(',', '.'))"
   ]
  },
  {
   "cell_type": "code",
   "execution_count": 5,
   "id": "1db3cb2b",
   "metadata": {},
   "outputs": [],
   "source": [
    "df_sucio['Total'] = df_sucio['Total'].astype(float)"
   ]
  },
  {
   "cell_type": "code",
   "execution_count": 6,
   "id": "e1ab0c91",
   "metadata": {},
   "outputs": [],
   "source": [
    "años = [2008, 2020]"
   ]
  },
  {
   "cell_type": "code",
   "execution_count": 7,
   "id": "ba23f98e",
   "metadata": {},
   "outputs": [],
   "source": [
    "df_sucio = df_sucio[df_sucio['Periodo'].isin(años)]"
   ]
  },
  {
   "cell_type": "code",
   "execution_count": 8,
   "id": "ce6b8d8a",
   "metadata": {},
   "outputs": [
    {
     "data": {
      "text/html": [
       "<div>\n",
       "<style scoped>\n",
       "    .dataframe tbody tr th:only-of-type {\n",
       "        vertical-align: middle;\n",
       "    }\n",
       "\n",
       "    .dataframe tbody tr th {\n",
       "        vertical-align: top;\n",
       "    }\n",
       "\n",
       "    .dataframe thead th {\n",
       "        text-align: right;\n",
       "    }\n",
       "</style>\n",
       "<table border=\"1\" class=\"dataframe\">\n",
       "  <thead>\n",
       "    <tr style=\"text-align: right;\">\n",
       "      <th></th>\n",
       "      <th>Tipo de jornada</th>\n",
       "      <th>Grupo de edad</th>\n",
       "      <th>Decil</th>\n",
       "      <th>Periodo</th>\n",
       "      <th>Total</th>\n",
       "    </tr>\n",
       "  </thead>\n",
       "  <tbody>\n",
       "    <tr>\n",
       "      <th>0</th>\n",
       "      <td>Jornada a tiempo completo</td>\n",
       "      <td>De 16 a 24 años</td>\n",
       "      <td>Total decil</td>\n",
       "      <td>2020</td>\n",
       "      <td>1532.90</td>\n",
       "    </tr>\n",
       "    <tr>\n",
       "      <th>12</th>\n",
       "      <td>Jornada a tiempo completo</td>\n",
       "      <td>De 16 a 24 años</td>\n",
       "      <td>Total decil</td>\n",
       "      <td>2008</td>\n",
       "      <td>1351.02</td>\n",
       "    </tr>\n",
       "    <tr>\n",
       "      <th>15</th>\n",
       "      <td>Jornada a tiempo completo</td>\n",
       "      <td>De 25 a 34 años</td>\n",
       "      <td>Total decil</td>\n",
       "      <td>2020</td>\n",
       "      <td>1908.85</td>\n",
       "    </tr>\n",
       "    <tr>\n",
       "      <th>27</th>\n",
       "      <td>Jornada a tiempo completo</td>\n",
       "      <td>De 25 a 34 años</td>\n",
       "      <td>Total decil</td>\n",
       "      <td>2008</td>\n",
       "      <td>1730.38</td>\n",
       "    </tr>\n",
       "    <tr>\n",
       "      <th>30</th>\n",
       "      <td>Jornada a tiempo parcial</td>\n",
       "      <td>De 16 a 24 años</td>\n",
       "      <td>Total decil</td>\n",
       "      <td>2020</td>\n",
       "      <td>642.73</td>\n",
       "    </tr>\n",
       "    <tr>\n",
       "      <th>42</th>\n",
       "      <td>Jornada a tiempo parcial</td>\n",
       "      <td>De 16 a 24 años</td>\n",
       "      <td>Total decil</td>\n",
       "      <td>2008</td>\n",
       "      <td>625.34</td>\n",
       "    </tr>\n",
       "    <tr>\n",
       "      <th>45</th>\n",
       "      <td>Jornada a tiempo parcial</td>\n",
       "      <td>De 25 a 34 años</td>\n",
       "      <td>Total decil</td>\n",
       "      <td>2020</td>\n",
       "      <td>775.70</td>\n",
       "    </tr>\n",
       "    <tr>\n",
       "      <th>57</th>\n",
       "      <td>Jornada a tiempo parcial</td>\n",
       "      <td>De 25 a 34 años</td>\n",
       "      <td>Total decil</td>\n",
       "      <td>2008</td>\n",
       "      <td>705.45</td>\n",
       "    </tr>\n",
       "  </tbody>\n",
       "</table>\n",
       "</div>"
      ],
      "text/plain": [
       "              Tipo de jornada    Grupo de edad        Decil  Periodo    Total\n",
       "0   Jornada a tiempo completo  De 16 a 24 años  Total decil     2020  1532.90\n",
       "12  Jornada a tiempo completo  De 16 a 24 años  Total decil     2008  1351.02\n",
       "15  Jornada a tiempo completo  De 25 a 34 años  Total decil     2020  1908.85\n",
       "27  Jornada a tiempo completo  De 25 a 34 años  Total decil     2008  1730.38\n",
       "30   Jornada a tiempo parcial  De 16 a 24 años  Total decil     2020   642.73\n",
       "42   Jornada a tiempo parcial  De 16 a 24 años  Total decil     2008   625.34\n",
       "45   Jornada a tiempo parcial  De 25 a 34 años  Total decil     2020   775.70\n",
       "57   Jornada a tiempo parcial  De 25 a 34 años  Total decil     2008   705.45"
      ]
     },
     "execution_count": 8,
     "metadata": {},
     "output_type": "execute_result"
    }
   ],
   "source": [
    "df_sucio"
   ]
  },
  {
   "cell_type": "code",
   "execution_count": 9,
   "id": "94c9f356",
   "metadata": {},
   "outputs": [],
   "source": [
    "df_sucio = df_sucio.groupby(by = ['Tipo de jornada', 'Periodo'], as_index = False).median()"
   ]
  },
  {
   "cell_type": "code",
   "execution_count": 10,
   "id": "39dbd93a",
   "metadata": {},
   "outputs": [
    {
     "data": {
      "text/html": [
       "<div>\n",
       "<style scoped>\n",
       "    .dataframe tbody tr th:only-of-type {\n",
       "        vertical-align: middle;\n",
       "    }\n",
       "\n",
       "    .dataframe tbody tr th {\n",
       "        vertical-align: top;\n",
       "    }\n",
       "\n",
       "    .dataframe thead th {\n",
       "        text-align: right;\n",
       "    }\n",
       "</style>\n",
       "<table border=\"1\" class=\"dataframe\">\n",
       "  <thead>\n",
       "    <tr style=\"text-align: right;\">\n",
       "      <th></th>\n",
       "      <th>Tipo de jornada</th>\n",
       "      <th>Periodo</th>\n",
       "      <th>Total</th>\n",
       "    </tr>\n",
       "  </thead>\n",
       "  <tbody>\n",
       "    <tr>\n",
       "      <th>0</th>\n",
       "      <td>Jornada a tiempo completo</td>\n",
       "      <td>2008</td>\n",
       "      <td>1540.700</td>\n",
       "    </tr>\n",
       "    <tr>\n",
       "      <th>1</th>\n",
       "      <td>Jornada a tiempo completo</td>\n",
       "      <td>2020</td>\n",
       "      <td>1720.875</td>\n",
       "    </tr>\n",
       "    <tr>\n",
       "      <th>2</th>\n",
       "      <td>Jornada a tiempo parcial</td>\n",
       "      <td>2008</td>\n",
       "      <td>665.395</td>\n",
       "    </tr>\n",
       "    <tr>\n",
       "      <th>3</th>\n",
       "      <td>Jornada a tiempo parcial</td>\n",
       "      <td>2020</td>\n",
       "      <td>709.215</td>\n",
       "    </tr>\n",
       "  </tbody>\n",
       "</table>\n",
       "</div>"
      ],
      "text/plain": [
       "             Tipo de jornada  Periodo     Total\n",
       "0  Jornada a tiempo completo     2008  1540.700\n",
       "1  Jornada a tiempo completo     2020  1720.875\n",
       "2   Jornada a tiempo parcial     2008   665.395\n",
       "3   Jornada a tiempo parcial     2020   709.215"
      ]
     },
     "execution_count": 10,
     "metadata": {},
     "output_type": "execute_result"
    }
   ],
   "source": [
    "df_sucio"
   ]
  },
  {
   "cell_type": "code",
   "execution_count": 11,
   "id": "2b1a388c",
   "metadata": {},
   "outputs": [
    {
     "data": {
      "text/html": [
       "<div>\n",
       "<style scoped>\n",
       "    .dataframe tbody tr th:only-of-type {\n",
       "        vertical-align: middle;\n",
       "    }\n",
       "\n",
       "    .dataframe tbody tr th {\n",
       "        vertical-align: top;\n",
       "    }\n",
       "\n",
       "    .dataframe thead th {\n",
       "        text-align: right;\n",
       "    }\n",
       "</style>\n",
       "<table border=\"1\" class=\"dataframe\">\n",
       "  <thead>\n",
       "    <tr style=\"text-align: right;\">\n",
       "      <th></th>\n",
       "      <th>Tipo de jornada</th>\n",
       "      <th>Periodo</th>\n",
       "      <th>Total</th>\n",
       "    </tr>\n",
       "  </thead>\n",
       "  <tbody>\n",
       "    <tr>\n",
       "      <th>0</th>\n",
       "      <td>Jornada a tiempo completo</td>\n",
       "      <td>2008</td>\n",
       "      <td>1540.700</td>\n",
       "    </tr>\n",
       "    <tr>\n",
       "      <th>1</th>\n",
       "      <td>Jornada a tiempo completo</td>\n",
       "      <td>2020</td>\n",
       "      <td>1720.875</td>\n",
       "    </tr>\n",
       "  </tbody>\n",
       "</table>\n",
       "</div>"
      ],
      "text/plain": [
       "             Tipo de jornada  Periodo     Total\n",
       "0  Jornada a tiempo completo     2008  1540.700\n",
       "1  Jornada a tiempo completo     2020  1720.875"
      ]
     },
     "execution_count": 11,
     "metadata": {},
     "output_type": "execute_result"
    }
   ],
   "source": [
    "df_tiempo_completo = df_sucio[0:2]\n",
    "df_tiempo_completo"
   ]
  },
  {
   "cell_type": "code",
   "execution_count": 12,
   "id": "39ae2ac3",
   "metadata": {},
   "outputs": [
    {
     "name": "stderr",
     "output_type": "stream",
     "text": [
      "C:\\Users\\anabe\\AppData\\Local\\Temp/ipykernel_5476/892922014.py:1: SettingWithCopyWarning: \n",
      "A value is trying to be set on a copy of a slice from a DataFrame.\n",
      "Try using .loc[row_indexer,col_indexer] = value instead\n",
      "\n",
      "See the caveats in the documentation: https://pandas.pydata.org/pandas-docs/stable/user_guide/indexing.html#returning-a-view-versus-a-copy\n",
      "  df_tiempo_completo['Porcentajes'] = df_tiempo_completo['Total'].map(lambda x: (x * 100 / 1540.700) - 100)\n"
     ]
    }
   ],
   "source": [
    "df_tiempo_completo['Porcentajes'] = df_tiempo_completo['Total'].map(lambda x: (x * 100 / 1540.700) - 100)"
   ]
  },
  {
   "cell_type": "code",
   "execution_count": 13,
   "id": "caee4a8e",
   "metadata": {},
   "outputs": [
    {
     "data": {
      "text/html": [
       "<div>\n",
       "<style scoped>\n",
       "    .dataframe tbody tr th:only-of-type {\n",
       "        vertical-align: middle;\n",
       "    }\n",
       "\n",
       "    .dataframe tbody tr th {\n",
       "        vertical-align: top;\n",
       "    }\n",
       "\n",
       "    .dataframe thead th {\n",
       "        text-align: right;\n",
       "    }\n",
       "</style>\n",
       "<table border=\"1\" class=\"dataframe\">\n",
       "  <thead>\n",
       "    <tr style=\"text-align: right;\">\n",
       "      <th></th>\n",
       "      <th>Tipo de jornada</th>\n",
       "      <th>Periodo</th>\n",
       "      <th>Total</th>\n",
       "      <th>Porcentajes</th>\n",
       "    </tr>\n",
       "  </thead>\n",
       "  <tbody>\n",
       "    <tr>\n",
       "      <th>0</th>\n",
       "      <td>Jornada a tiempo completo</td>\n",
       "      <td>2008</td>\n",
       "      <td>1540.700</td>\n",
       "      <td>0.00000</td>\n",
       "    </tr>\n",
       "    <tr>\n",
       "      <th>1</th>\n",
       "      <td>Jornada a tiempo completo</td>\n",
       "      <td>2020</td>\n",
       "      <td>1720.875</td>\n",
       "      <td>11.69436</td>\n",
       "    </tr>\n",
       "  </tbody>\n",
       "</table>\n",
       "</div>"
      ],
      "text/plain": [
       "             Tipo de jornada  Periodo     Total  Porcentajes\n",
       "0  Jornada a tiempo completo     2008  1540.700      0.00000\n",
       "1  Jornada a tiempo completo     2020  1720.875     11.69436"
      ]
     },
     "execution_count": 13,
     "metadata": {},
     "output_type": "execute_result"
    }
   ],
   "source": [
    "df_tiempo_completo"
   ]
  },
  {
   "cell_type": "code",
   "execution_count": 14,
   "id": "703ee2d1",
   "metadata": {},
   "outputs": [
    {
     "data": {
      "text/html": [
       "<div>\n",
       "<style scoped>\n",
       "    .dataframe tbody tr th:only-of-type {\n",
       "        vertical-align: middle;\n",
       "    }\n",
       "\n",
       "    .dataframe tbody tr th {\n",
       "        vertical-align: top;\n",
       "    }\n",
       "\n",
       "    .dataframe thead th {\n",
       "        text-align: right;\n",
       "    }\n",
       "</style>\n",
       "<table border=\"1\" class=\"dataframe\">\n",
       "  <thead>\n",
       "    <tr style=\"text-align: right;\">\n",
       "      <th></th>\n",
       "      <th>Tipo de jornada</th>\n",
       "      <th>Periodo</th>\n",
       "      <th>Total</th>\n",
       "    </tr>\n",
       "  </thead>\n",
       "  <tbody>\n",
       "    <tr>\n",
       "      <th>2</th>\n",
       "      <td>Jornada a tiempo parcial</td>\n",
       "      <td>2008</td>\n",
       "      <td>665.395</td>\n",
       "    </tr>\n",
       "    <tr>\n",
       "      <th>3</th>\n",
       "      <td>Jornada a tiempo parcial</td>\n",
       "      <td>2020</td>\n",
       "      <td>709.215</td>\n",
       "    </tr>\n",
       "  </tbody>\n",
       "</table>\n",
       "</div>"
      ],
      "text/plain": [
       "            Tipo de jornada  Periodo    Total\n",
       "2  Jornada a tiempo parcial     2008  665.395\n",
       "3  Jornada a tiempo parcial     2020  709.215"
      ]
     },
     "execution_count": 14,
     "metadata": {},
     "output_type": "execute_result"
    }
   ],
   "source": [
    "df_tiempo_parcial = df_sucio[2:4]\n",
    "df_tiempo_parcial"
   ]
  },
  {
   "cell_type": "code",
   "execution_count": 15,
   "id": "b020d2c7",
   "metadata": {},
   "outputs": [
    {
     "name": "stderr",
     "output_type": "stream",
     "text": [
      "C:\\Users\\anabe\\AppData\\Local\\Temp/ipykernel_5476/3912974246.py:1: SettingWithCopyWarning: \n",
      "A value is trying to be set on a copy of a slice from a DataFrame.\n",
      "Try using .loc[row_indexer,col_indexer] = value instead\n",
      "\n",
      "See the caveats in the documentation: https://pandas.pydata.org/pandas-docs/stable/user_guide/indexing.html#returning-a-view-versus-a-copy\n",
      "  df_tiempo_parcial['Porcentajes'] = df_tiempo_parcial['Total'].map(lambda x: 100 - (x * 100 / 709.215))\n"
     ]
    }
   ],
   "source": [
    "df_tiempo_parcial['Porcentajes'] = df_tiempo_parcial['Total'].map(lambda x: 100 - (x * 100 / 709.215))"
   ]
  },
  {
   "cell_type": "code",
   "execution_count": 16,
   "id": "00dcaa55",
   "metadata": {},
   "outputs": [
    {
     "data": {
      "text/html": [
       "<div>\n",
       "<style scoped>\n",
       "    .dataframe tbody tr th:only-of-type {\n",
       "        vertical-align: middle;\n",
       "    }\n",
       "\n",
       "    .dataframe tbody tr th {\n",
       "        vertical-align: top;\n",
       "    }\n",
       "\n",
       "    .dataframe thead th {\n",
       "        text-align: right;\n",
       "    }\n",
       "</style>\n",
       "<table border=\"1\" class=\"dataframe\">\n",
       "  <thead>\n",
       "    <tr style=\"text-align: right;\">\n",
       "      <th></th>\n",
       "      <th>Tipo de jornada</th>\n",
       "      <th>Periodo</th>\n",
       "      <th>Total</th>\n",
       "      <th>Porcentajes</th>\n",
       "    </tr>\n",
       "  </thead>\n",
       "  <tbody>\n",
       "    <tr>\n",
       "      <th>2</th>\n",
       "      <td>Jornada a tiempo parcial</td>\n",
       "      <td>2008</td>\n",
       "      <td>665.395</td>\n",
       "      <td>6.178662</td>\n",
       "    </tr>\n",
       "    <tr>\n",
       "      <th>3</th>\n",
       "      <td>Jornada a tiempo parcial</td>\n",
       "      <td>2020</td>\n",
       "      <td>709.215</td>\n",
       "      <td>0.000000</td>\n",
       "    </tr>\n",
       "  </tbody>\n",
       "</table>\n",
       "</div>"
      ],
      "text/plain": [
       "            Tipo de jornada  Periodo    Total  Porcentajes\n",
       "2  Jornada a tiempo parcial     2008  665.395     6.178662\n",
       "3  Jornada a tiempo parcial     2020  709.215     0.000000"
      ]
     },
     "execution_count": 16,
     "metadata": {},
     "output_type": "execute_result"
    }
   ],
   "source": [
    "df_tiempo_parcial"
   ]
  },
  {
   "cell_type": "code",
   "execution_count": 17,
   "id": "2ff09dca",
   "metadata": {},
   "outputs": [
    {
     "data": {
      "text/html": [
       "<div>\n",
       "<style scoped>\n",
       "    .dataframe tbody tr th:only-of-type {\n",
       "        vertical-align: middle;\n",
       "    }\n",
       "\n",
       "    .dataframe tbody tr th {\n",
       "        vertical-align: top;\n",
       "    }\n",
       "\n",
       "    .dataframe thead th {\n",
       "        text-align: right;\n",
       "    }\n",
       "</style>\n",
       "<table border=\"1\" class=\"dataframe\">\n",
       "  <thead>\n",
       "    <tr style=\"text-align: right;\">\n",
       "      <th></th>\n",
       "      <th>Tipo de jornada</th>\n",
       "      <th>Periodo</th>\n",
       "      <th>Total</th>\n",
       "      <th>Porcentajes</th>\n",
       "    </tr>\n",
       "  </thead>\n",
       "  <tbody>\n",
       "    <tr>\n",
       "      <th>0</th>\n",
       "      <td>Jornada a tiempo completo</td>\n",
       "      <td>2008</td>\n",
       "      <td>1540.700</td>\n",
       "      <td>0.000000</td>\n",
       "    </tr>\n",
       "    <tr>\n",
       "      <th>1</th>\n",
       "      <td>Jornada a tiempo completo</td>\n",
       "      <td>2020</td>\n",
       "      <td>1720.875</td>\n",
       "      <td>11.694360</td>\n",
       "    </tr>\n",
       "    <tr>\n",
       "      <th>2</th>\n",
       "      <td>Jornada a tiempo parcial</td>\n",
       "      <td>2008</td>\n",
       "      <td>665.395</td>\n",
       "      <td>6.178662</td>\n",
       "    </tr>\n",
       "    <tr>\n",
       "      <th>3</th>\n",
       "      <td>Jornada a tiempo parcial</td>\n",
       "      <td>2020</td>\n",
       "      <td>709.215</td>\n",
       "      <td>0.000000</td>\n",
       "    </tr>\n",
       "  </tbody>\n",
       "</table>\n",
       "</div>"
      ],
      "text/plain": [
       "             Tipo de jornada  Periodo     Total  Porcentajes\n",
       "0  Jornada a tiempo completo     2008  1540.700     0.000000\n",
       "1  Jornada a tiempo completo     2020  1720.875    11.694360\n",
       "2   Jornada a tiempo parcial     2008   665.395     6.178662\n",
       "3   Jornada a tiempo parcial     2020   709.215     0.000000"
      ]
     },
     "execution_count": 17,
     "metadata": {},
     "output_type": "execute_result"
    }
   ],
   "source": [
    "df_total_incremento = pd.concat([df_tiempo_completo, df_tiempo_parcial])\n",
    "df_total_incremento"
   ]
  },
  {
   "cell_type": "code",
   "execution_count": 18,
   "id": "9872e112",
   "metadata": {},
   "outputs": [],
   "source": [
    "df_total_incremento.to_csv('salarios_medios_por_tipo_de_jornada,_grupo_de_edad_y_decil_limpio.csv', index=False)"
   ]
  },
  {
   "cell_type": "code",
   "execution_count": null,
   "id": "e1dd485d",
   "metadata": {},
   "outputs": [],
   "source": []
  }
 ],
 "metadata": {
  "kernelspec": {
   "display_name": "Python 3 (ipykernel)",
   "language": "python",
   "name": "python3"
  },
  "language_info": {
   "codemirror_mode": {
    "name": "ipython",
    "version": 3
   },
   "file_extension": ".py",
   "mimetype": "text/x-python",
   "name": "python",
   "nbconvert_exporter": "python",
   "pygments_lexer": "ipython3",
   "version": "3.9.7"
  }
 },
 "nbformat": 4,
 "nbformat_minor": 5
}
