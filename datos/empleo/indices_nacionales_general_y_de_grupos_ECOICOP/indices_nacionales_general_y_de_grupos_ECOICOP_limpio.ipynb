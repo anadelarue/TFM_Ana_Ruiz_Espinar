{
 "cells": [
  {
   "cell_type": "code",
   "execution_count": 1,
   "id": "7319bec3",
   "metadata": {},
   "outputs": [],
   "source": [
    "import pandas as pd\n",
    "import numpy as np"
   ]
  },
  {
   "cell_type": "code",
   "execution_count": 2,
   "id": "a69f5d53",
   "metadata": {},
   "outputs": [],
   "source": [
    "pd.options.display.float_format = '{:.2f}'.format"
   ]
  },
  {
   "cell_type": "code",
   "execution_count": 3,
   "id": "748b6db2",
   "metadata": {},
   "outputs": [],
   "source": [
    "df_sucio = pd.read_csv('indices_nacionales_general_y_de_grupos_ECOICOP.csv', encoding = 'latin1', sep = ';')"
   ]
  },
  {
   "cell_type": "code",
   "execution_count": 4,
   "id": "1ab9460b",
   "metadata": {},
   "outputs": [
    {
     "data": {
      "text/html": [
       "<div>\n",
       "<style scoped>\n",
       "    .dataframe tbody tr th:only-of-type {\n",
       "        vertical-align: middle;\n",
       "    }\n",
       "\n",
       "    .dataframe tbody tr th {\n",
       "        vertical-align: top;\n",
       "    }\n",
       "\n",
       "    .dataframe thead th {\n",
       "        text-align: right;\n",
       "    }\n",
       "</style>\n",
       "<table border=\"1\" class=\"dataframe\">\n",
       "  <thead>\n",
       "    <tr style=\"text-align: right;\">\n",
       "      <th></th>\n",
       "      <th>Grupos ECOICOP</th>\n",
       "      <th>Tipo de dato</th>\n",
       "      <th>Periodo</th>\n",
       "      <th>Total</th>\n",
       "    </tr>\n",
       "  </thead>\n",
       "  <tbody>\n",
       "    <tr>\n",
       "      <th>0</th>\n",
       "      <td>Índice general</td>\n",
       "      <td>Índice</td>\n",
       "      <td>2022M04</td>\n",
       "      <td>107,375</td>\n",
       "    </tr>\n",
       "    <tr>\n",
       "      <th>1</th>\n",
       "      <td>Índice general</td>\n",
       "      <td>Índice</td>\n",
       "      <td>2022M03</td>\n",
       "      <td>107,566</td>\n",
       "    </tr>\n",
       "    <tr>\n",
       "      <th>2</th>\n",
       "      <td>Índice general</td>\n",
       "      <td>Índice</td>\n",
       "      <td>2022M02</td>\n",
       "      <td>104,403</td>\n",
       "    </tr>\n",
       "    <tr>\n",
       "      <th>3</th>\n",
       "      <td>Índice general</td>\n",
       "      <td>Índice</td>\n",
       "      <td>2022M01</td>\n",
       "      <td>103,567</td>\n",
       "    </tr>\n",
       "    <tr>\n",
       "      <th>4</th>\n",
       "      <td>Índice general</td>\n",
       "      <td>Índice</td>\n",
       "      <td>2021M12</td>\n",
       "      <td>103,965</td>\n",
       "    </tr>\n",
       "    <tr>\n",
       "      <th>...</th>\n",
       "      <td>...</td>\n",
       "      <td>...</td>\n",
       "      <td>...</td>\n",
       "      <td>...</td>\n",
       "    </tr>\n",
       "    <tr>\n",
       "      <th>167</th>\n",
       "      <td>Índice general</td>\n",
       "      <td>Índice</td>\n",
       "      <td>2008M05</td>\n",
       "      <td>86,985</td>\n",
       "    </tr>\n",
       "    <tr>\n",
       "      <th>168</th>\n",
       "      <td>Índice general</td>\n",
       "      <td>Índice</td>\n",
       "      <td>2008M04</td>\n",
       "      <td>86,402</td>\n",
       "    </tr>\n",
       "    <tr>\n",
       "      <th>169</th>\n",
       "      <td>Índice general</td>\n",
       "      <td>Índice</td>\n",
       "      <td>2008M03</td>\n",
       "      <td>85,482</td>\n",
       "    </tr>\n",
       "    <tr>\n",
       "      <th>170</th>\n",
       "      <td>Índice general</td>\n",
       "      <td>Índice</td>\n",
       "      <td>2008M02</td>\n",
       "      <td>84,730</td>\n",
       "    </tr>\n",
       "    <tr>\n",
       "      <th>171</th>\n",
       "      <td>Índice general</td>\n",
       "      <td>Índice</td>\n",
       "      <td>2008M01</td>\n",
       "      <td>84,598</td>\n",
       "    </tr>\n",
       "  </tbody>\n",
       "</table>\n",
       "<p>172 rows × 4 columns</p>\n",
       "</div>"
      ],
      "text/plain": [
       "     Grupos ECOICOP Tipo de dato  Periodo    Total\n",
       "0    Índice general       Índice  2022M04  107,375\n",
       "1    Índice general       Índice  2022M03  107,566\n",
       "2    Índice general       Índice  2022M02  104,403\n",
       "3    Índice general       Índice  2022M01  103,567\n",
       "4    Índice general       Índice  2021M12  103,965\n",
       "..              ...          ...      ...      ...\n",
       "167  Índice general       Índice  2008M05   86,985\n",
       "168  Índice general       Índice  2008M04   86,402\n",
       "169  Índice general       Índice  2008M03   85,482\n",
       "170  Índice general       Índice  2008M02   84,730\n",
       "171  Índice general       Índice  2008M01   84,598\n",
       "\n",
       "[172 rows x 4 columns]"
      ]
     },
     "execution_count": 4,
     "metadata": {},
     "output_type": "execute_result"
    }
   ],
   "source": [
    "df_sucio"
   ]
  },
  {
   "cell_type": "code",
   "execution_count": 5,
   "id": "ffa90beb",
   "metadata": {},
   "outputs": [],
   "source": [
    "periodos = ['2008M01', '2020M12']"
   ]
  },
  {
   "cell_type": "code",
   "execution_count": 6,
   "id": "56b6a421",
   "metadata": {},
   "outputs": [],
   "source": [
    "df_sucio = df_sucio[df_sucio['Periodo'].isin(periodos)]"
   ]
  },
  {
   "cell_type": "code",
   "execution_count": 7,
   "id": "d7d9f9cf",
   "metadata": {},
   "outputs": [
    {
     "data": {
      "text/html": [
       "<div>\n",
       "<style scoped>\n",
       "    .dataframe tbody tr th:only-of-type {\n",
       "        vertical-align: middle;\n",
       "    }\n",
       "\n",
       "    .dataframe tbody tr th {\n",
       "        vertical-align: top;\n",
       "    }\n",
       "\n",
       "    .dataframe thead th {\n",
       "        text-align: right;\n",
       "    }\n",
       "</style>\n",
       "<table border=\"1\" class=\"dataframe\">\n",
       "  <thead>\n",
       "    <tr style=\"text-align: right;\">\n",
       "      <th></th>\n",
       "      <th>Grupos ECOICOP</th>\n",
       "      <th>Tipo de dato</th>\n",
       "      <th>Periodo</th>\n",
       "      <th>Total</th>\n",
       "    </tr>\n",
       "  </thead>\n",
       "  <tbody>\n",
       "    <tr>\n",
       "      <th>16</th>\n",
       "      <td>Índice general</td>\n",
       "      <td>Índice</td>\n",
       "      <td>2020M12</td>\n",
       "      <td>97,574</td>\n",
       "    </tr>\n",
       "    <tr>\n",
       "      <th>171</th>\n",
       "      <td>Índice general</td>\n",
       "      <td>Índice</td>\n",
       "      <td>2008M01</td>\n",
       "      <td>84,598</td>\n",
       "    </tr>\n",
       "  </tbody>\n",
       "</table>\n",
       "</div>"
      ],
      "text/plain": [
       "     Grupos ECOICOP Tipo de dato  Periodo   Total\n",
       "16   Índice general       Índice  2020M12  97,574\n",
       "171  Índice general       Índice  2008M01  84,598"
      ]
     },
     "execution_count": 7,
     "metadata": {},
     "output_type": "execute_result"
    }
   ],
   "source": [
    "df_sucio"
   ]
  },
  {
   "cell_type": "code",
   "execution_count": 8,
   "id": "5dc49268",
   "metadata": {},
   "outputs": [
    {
     "name": "stderr",
     "output_type": "stream",
     "text": [
      "C:\\Users\\anabe\\AppData\\Local\\Temp/ipykernel_10544/3861200797.py:1: SettingWithCopyWarning: \n",
      "A value is trying to be set on a copy of a slice from a DataFrame.\n",
      "Try using .loc[row_indexer,col_indexer] = value instead\n",
      "\n",
      "See the caveats in the documentation: https://pandas.pydata.org/pandas-docs/stable/user_guide/indexing.html#returning-a-view-versus-a-copy\n",
      "  df_sucio['Total'] = df_sucio['Total'].map(lambda x: x.replace(\",\", \".\")).astype(float)\n"
     ]
    }
   ],
   "source": [
    "df_sucio['Total'] = df_sucio['Total'].map(lambda x: x.replace(\",\", \".\")).astype(float)"
   ]
  },
  {
   "cell_type": "code",
   "execution_count": 9,
   "id": "3ce7895e",
   "metadata": {},
   "outputs": [
    {
     "data": {
      "text/html": [
       "<div>\n",
       "<style scoped>\n",
       "    .dataframe tbody tr th:only-of-type {\n",
       "        vertical-align: middle;\n",
       "    }\n",
       "\n",
       "    .dataframe tbody tr th {\n",
       "        vertical-align: top;\n",
       "    }\n",
       "\n",
       "    .dataframe thead th {\n",
       "        text-align: right;\n",
       "    }\n",
       "</style>\n",
       "<table border=\"1\" class=\"dataframe\">\n",
       "  <thead>\n",
       "    <tr style=\"text-align: right;\">\n",
       "      <th></th>\n",
       "      <th>Grupos ECOICOP</th>\n",
       "      <th>Tipo de dato</th>\n",
       "      <th>Periodo</th>\n",
       "      <th>Total</th>\n",
       "    </tr>\n",
       "  </thead>\n",
       "  <tbody>\n",
       "    <tr>\n",
       "      <th>16</th>\n",
       "      <td>Índice general</td>\n",
       "      <td>Índice</td>\n",
       "      <td>2020M12</td>\n",
       "      <td>97.57</td>\n",
       "    </tr>\n",
       "    <tr>\n",
       "      <th>171</th>\n",
       "      <td>Índice general</td>\n",
       "      <td>Índice</td>\n",
       "      <td>2008M01</td>\n",
       "      <td>84.60</td>\n",
       "    </tr>\n",
       "  </tbody>\n",
       "</table>\n",
       "</div>"
      ],
      "text/plain": [
       "     Grupos ECOICOP Tipo de dato  Periodo  Total\n",
       "16   Índice general       Índice  2020M12  97.57\n",
       "171  Índice general       Índice  2008M01  84.60"
      ]
     },
     "execution_count": 9,
     "metadata": {},
     "output_type": "execute_result"
    }
   ],
   "source": [
    "df_sucio"
   ]
  },
  {
   "cell_type": "code",
   "execution_count": 10,
   "id": "d77cbf61",
   "metadata": {},
   "outputs": [
    {
     "name": "stderr",
     "output_type": "stream",
     "text": [
      "C:\\Users\\anabe\\AppData\\Local\\Temp/ipykernel_10544/2308257128.py:1: SettingWithCopyWarning: \n",
      "A value is trying to be set on a copy of a slice from a DataFrame.\n",
      "Try using .loc[row_indexer,col_indexer] = value instead\n",
      "\n",
      "See the caveats in the documentation: https://pandas.pydata.org/pandas-docs/stable/user_guide/indexing.html#returning-a-view-versus-a-copy\n",
      "  df_sucio['Porcentajes'] = df_sucio['Total'].map(lambda x: (x * 100 / 84.598)-100)\n"
     ]
    }
   ],
   "source": [
    "df_sucio['Porcentajes'] = df_sucio['Total'].map(lambda x: (x * 100 / 84.598)-100)"
   ]
  },
  {
   "cell_type": "code",
   "execution_count": 11,
   "id": "5b3fee75",
   "metadata": {},
   "outputs": [
    {
     "data": {
      "text/html": [
       "<div>\n",
       "<style scoped>\n",
       "    .dataframe tbody tr th:only-of-type {\n",
       "        vertical-align: middle;\n",
       "    }\n",
       "\n",
       "    .dataframe tbody tr th {\n",
       "        vertical-align: top;\n",
       "    }\n",
       "\n",
       "    .dataframe thead th {\n",
       "        text-align: right;\n",
       "    }\n",
       "</style>\n",
       "<table border=\"1\" class=\"dataframe\">\n",
       "  <thead>\n",
       "    <tr style=\"text-align: right;\">\n",
       "      <th></th>\n",
       "      <th>Grupos ECOICOP</th>\n",
       "      <th>Tipo de dato</th>\n",
       "      <th>Periodo</th>\n",
       "      <th>Total</th>\n",
       "      <th>Porcentajes</th>\n",
       "    </tr>\n",
       "  </thead>\n",
       "  <tbody>\n",
       "    <tr>\n",
       "      <th>16</th>\n",
       "      <td>Índice general</td>\n",
       "      <td>Índice</td>\n",
       "      <td>2020M12</td>\n",
       "      <td>97.57</td>\n",
       "      <td>15.34</td>\n",
       "    </tr>\n",
       "    <tr>\n",
       "      <th>171</th>\n",
       "      <td>Índice general</td>\n",
       "      <td>Índice</td>\n",
       "      <td>2008M01</td>\n",
       "      <td>84.60</td>\n",
       "      <td>-0.00</td>\n",
       "    </tr>\n",
       "  </tbody>\n",
       "</table>\n",
       "</div>"
      ],
      "text/plain": [
       "     Grupos ECOICOP Tipo de dato  Periodo  Total  Porcentajes\n",
       "16   Índice general       Índice  2020M12  97.57        15.34\n",
       "171  Índice general       Índice  2008M01  84.60        -0.00"
      ]
     },
     "execution_count": 11,
     "metadata": {},
     "output_type": "execute_result"
    }
   ],
   "source": [
    "df_sucio"
   ]
  },
  {
   "cell_type": "code",
   "execution_count": 12,
   "id": "f63585ff",
   "metadata": {},
   "outputs": [],
   "source": [
    "df_sucio.to_csv('indices_nacionales_general_y_de_grupos_ECOICOP_limpio.csv', index = False)"
   ]
  }
 ],
 "metadata": {
  "kernelspec": {
   "display_name": "Python 3 (ipykernel)",
   "language": "python",
   "name": "python3"
  },
  "language_info": {
   "codemirror_mode": {
    "name": "ipython",
    "version": 3
   },
   "file_extension": ".py",
   "mimetype": "text/x-python",
   "name": "python",
   "nbconvert_exporter": "python",
   "pygments_lexer": "ipython3",
   "version": "3.9.7"
  }
 },
 "nbformat": 4,
 "nbformat_minor": 5
}
